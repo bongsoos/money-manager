{
 "cells": [
  {
   "cell_type": "markdown",
   "metadata": {},
   "source": [
    "# Account Management Framework\n",
    "### Account Management through Mint Interface\n",
    "\n",
    "(C) bongsoos 2017\n",
    "\n"
   ]
  },
  {
   "cell_type": "code",
   "execution_count": null,
   "metadata": {
    "collapsed": true
   },
   "outputs": [],
   "source": [
    "from __future__ import division\n",
    "from IPython.display import display, HTML\n",
    "import numpy as np\n",
    "\n",
    "from money_manager import mint_interface\n"
   ]
  },
  {
   "cell_type": "markdown",
   "metadata": {},
   "source": [
    "##### Load transactions into MoneyManager"
   ]
  },
  {
   "cell_type": "code",
   "execution_count": null,
   "metadata": {
    "collapsed": true
   },
   "outputs": [],
   "source": [
    "filepath = 'transactions.csv'\n",
    "\n",
    "mm = mint_interface.MoneyManager( filepath )"
   ]
  },
  {
   "cell_type": "markdown",
   "metadata": {},
   "source": [
    "##### Sort transactions into year and month"
   ]
  },
  {
   "cell_type": "code",
   "execution_count": null,
   "metadata": {
    "collapsed": true
   },
   "outputs": [],
   "source": [
    "year = 2017\n",
    "for month in range(1,13):\n",
    "    mm.categorical_summary( year=year, month=month)\n",
    "    "
   ]
  },
  {
   "cell_type": "code",
   "execution_count": null,
   "metadata": {
    "collapsed": true
   },
   "outputs": [],
   "source": [
    "mm"
   ]
  },
  {
   "cell_type": "code",
   "execution_count": null,
   "metadata": {
    "collapsed": true
   },
   "outputs": [],
   "source": [
    "# mm.view_summaries()"
   ]
  },
  {
   "cell_type": "code",
   "execution_count": null,
   "metadata": {
    "collapsed": true
   },
   "outputs": [],
   "source": [
    "df_temp = mm.dfs['2017-11']"
   ]
  },
  {
   "cell_type": "code",
   "execution_count": null,
   "metadata": {
    "collapsed": true
   },
   "outputs": [],
   "source": [
    "# IPython pretty print object\n",
    "def print_object( obj ):\n",
    "    '''\n",
    "    print object\n",
    "    \n",
    "    obj (object):\n",
    "        Accounts\n",
    "            or\n",
    "        Categories\n",
    "    '''\n",
    "    print obj, '\\n'\n",
    "    print \"\\nnet amount sum = (credit - debit)\\n\"\n",
    "    for ii, key in enumerate(obj.__dict__.keys()):\n",
    "        df = obj.__dict__[key]\n",
    "        \n",
    "        fmt = \"Item {}: {}\".format( ii+1, key )\n",
    "        print '\\033[1m' + fmt\n",
    "        display( df )\n",
    "        \n",
    "        credit_sum = df[ ( df.type == 'credit' ) ].amount.sum()\n",
    "        debit_sum = df[ ( df.type == 'debit' ) ].amount.sum()\n",
    "        \n",
    "        if ( np.isnan( debit_sum ) ):\n",
    "            debit_sum = 0\n",
    "        if ( np.isnan( credit_sum ) ):\n",
    "            credit_sum = 0\n",
    "            \n",
    "        print \"\\ncredit sum = {}\".format( credit_sum )\n",
    "        print \"debit sum = {}\".format( debit_sum )\n",
    "        print \"net amount sum = {}\\n\".format( credit_sum - debit_sum )\n",
    "\n"
   ]
  },
  {
   "cell_type": "markdown",
   "metadata": {},
   "source": [
    "### Account Manager"
   ]
  },
  {
   "cell_type": "code",
   "execution_count": null,
   "metadata": {
    "collapsed": true
   },
   "outputs": [],
   "source": [
    "am = mint_interface.AccountManager( df_temp )"
   ]
  },
  {
   "cell_type": "code",
   "execution_count": null,
   "metadata": {
    "collapsed": true
   },
   "outputs": [],
   "source": [
    "am"
   ]
  },
  {
   "cell_type": "code",
   "execution_count": null,
   "metadata": {
    "collapsed": true
   },
   "outputs": [],
   "source": [
    "am.accounts_checking"
   ]
  },
  {
   "cell_type": "code",
   "execution_count": null,
   "metadata": {
    "collapsed": true
   },
   "outputs": [],
   "source": [
    "am.accounts_creditcards"
   ]
  },
  {
   "cell_type": "markdown",
   "metadata": {},
   "source": [
    "### By Accounts\n",
    "#### 1. Checking Accounts"
   ]
  },
  {
   "cell_type": "code",
   "execution_count": null,
   "metadata": {
    "collapsed": true
   },
   "outputs": [],
   "source": [
    "print_object( am.accounts_checking )"
   ]
  },
  {
   "cell_type": "markdown",
   "metadata": {},
   "source": [
    "#### 2. Credit Cards"
   ]
  },
  {
   "cell_type": "code",
   "execution_count": null,
   "metadata": {
    "collapsed": true
   },
   "outputs": [],
   "source": [
    "for key in am.accounts_creditcards.__dict__.keys():\n",
    "    print '\\033[1m' + key + '\\n'\n",
    "    print_object( am.accounts_creditcards.__dict__[key])"
   ]
  },
  {
   "cell_type": "markdown",
   "metadata": {},
   "source": [
    "### By Categories\n",
    "#### 1. Checking Accounts"
   ]
  },
  {
   "cell_type": "code",
   "execution_count": null,
   "metadata": {
    "collapsed": true
   },
   "outputs": [],
   "source": [
    "print_object( am.categories_checking )"
   ]
  },
  {
   "cell_type": "markdown",
   "metadata": {},
   "source": [
    "#### 2. Credit Cards"
   ]
  },
  {
   "cell_type": "code",
   "execution_count": null,
   "metadata": {
    "collapsed": true
   },
   "outputs": [],
   "source": [
    "print_object( am.categories_creditcards )"
   ]
  },
  {
   "cell_type": "markdown",
   "metadata": {},
   "source": [
    "#### Shopping by descriptions"
   ]
  },
  {
   "cell_type": "code",
   "execution_count": null,
   "metadata": {
    "collapsed": true
   },
   "outputs": [],
   "source": [
    "print_object( mint_interface.sort_by_descr( am.categories_creditcards.Shopping ) )"
   ]
  },
  {
   "cell_type": "markdown",
   "metadata": {},
   "source": [
    "#### Groceries by descriptions"
   ]
  },
  {
   "cell_type": "code",
   "execution_count": null,
   "metadata": {
    "collapsed": true
   },
   "outputs": [],
   "source": [
    "print_object( mint_interface.sort_by_descr( am.categories_creditcards.Groceries ) )"
   ]
  },
  {
   "cell_type": "code",
   "execution_count": null,
   "metadata": {
    "collapsed": true
   },
   "outputs": [],
   "source": []
  }
 ],
 "metadata": {
  "kernelspec": {
   "display_name": "Python 2",
   "language": "python",
   "name": "python2"
  },
  "language_info": {
   "codemirror_mode": {
    "name": "ipython",
    "version": 2
   },
   "file_extension": ".py",
   "mimetype": "text/x-python",
   "name": "python",
   "nbconvert_exporter": "python",
   "pygments_lexer": "ipython2",
   "version": "2.7.10"
  }
 },
 "nbformat": 4,
 "nbformat_minor": 0
}
